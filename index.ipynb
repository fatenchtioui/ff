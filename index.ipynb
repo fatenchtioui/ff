{
 "cells": [
  {
   "cell_type": "markdown",
   "metadata": {},
   "source": [
    "Import the required Python libraries"
   ]
  },
  {
   "cell_type": "code",
   "execution_count": 26,
   "metadata": {},
   "outputs": [],
   "source": [
    "\n",
    "\n",
    "import numpy as np\n",
    "import pandas as pd\n",
    "import matplotlib.pyplot as plt\n",
    "%matplotlib inline "
   ]
  },
  {
   "cell_type": "markdown",
   "metadata": {},
   "source": [
    "dataset"
   ]
  },
  {
   "cell_type": "code",
   "execution_count": 53,
   "metadata": {},
   "outputs": [
    {
     "data": {
      "text/html": [
       "<div>\n",
       "<style scoped>\n",
       "    .dataframe tbody tr th:only-of-type {\n",
       "        vertical-align: middle;\n",
       "    }\n",
       "\n",
       "    .dataframe tbody tr th {\n",
       "        vertical-align: top;\n",
       "    }\n",
       "\n",
       "    .dataframe thead th {\n",
       "        text-align: right;\n",
       "    }\n",
       "</style>\n",
       "<table border=\"1\" class=\"dataframe\">\n",
       "  <thead>\n",
       "    <tr style=\"text-align: right;\">\n",
       "      <th></th>\n",
       "      <th>category</th>\n",
       "      <th>room_count</th>\n",
       "      <th>bathroom_count</th>\n",
       "      <th>size</th>\n",
       "      <th>type</th>\n",
       "      <th>price</th>\n",
       "      <th>city</th>\n",
       "      <th>region</th>\n",
       "      <th>log_price</th>\n",
       "    </tr>\n",
       "  </thead>\n",
       "  <tbody>\n",
       "    <tr>\n",
       "      <th>0</th>\n",
       "      <td>Terrains et Fermes</td>\n",
       "      <td>-1.0</td>\n",
       "      <td>-1.0</td>\n",
       "      <td>-1.0</td>\n",
       "      <td>À Vendre</td>\n",
       "      <td>100000.0</td>\n",
       "      <td>Ariana</td>\n",
       "      <td>Raoued</td>\n",
       "      <td>5.000000</td>\n",
       "    </tr>\n",
       "    <tr>\n",
       "      <th>1</th>\n",
       "      <td>Terrains et Fermes</td>\n",
       "      <td>-1.0</td>\n",
       "      <td>-1.0</td>\n",
       "      <td>-1.0</td>\n",
       "      <td>À Vendre</td>\n",
       "      <td>316000.0</td>\n",
       "      <td>Ariana</td>\n",
       "      <td>Autres villes</td>\n",
       "      <td>5.499687</td>\n",
       "    </tr>\n",
       "    <tr>\n",
       "      <th>2</th>\n",
       "      <td>Appartements</td>\n",
       "      <td>2.0</td>\n",
       "      <td>1.0</td>\n",
       "      <td>80.0</td>\n",
       "      <td>À Louer</td>\n",
       "      <td>380.0</td>\n",
       "      <td>Ariana</td>\n",
       "      <td>Autres villes</td>\n",
       "      <td>2.579784</td>\n",
       "    </tr>\n",
       "    <tr>\n",
       "      <th>3</th>\n",
       "      <td>Locations de vacances</td>\n",
       "      <td>1.0</td>\n",
       "      <td>1.0</td>\n",
       "      <td>90.0</td>\n",
       "      <td>À Louer</td>\n",
       "      <td>70.0</td>\n",
       "      <td>Ariana</td>\n",
       "      <td>Autres villes</td>\n",
       "      <td>1.845098</td>\n",
       "    </tr>\n",
       "    <tr>\n",
       "      <th>4</th>\n",
       "      <td>Appartements</td>\n",
       "      <td>2.0</td>\n",
       "      <td>2.0</td>\n",
       "      <td>113.0</td>\n",
       "      <td>À Vendre</td>\n",
       "      <td>170000.0</td>\n",
       "      <td>Ariana</td>\n",
       "      <td>Ariana Ville</td>\n",
       "      <td>5.230449</td>\n",
       "    </tr>\n",
       "    <tr>\n",
       "      <th>...</th>\n",
       "      <td>...</td>\n",
       "      <td>...</td>\n",
       "      <td>...</td>\n",
       "      <td>...</td>\n",
       "      <td>...</td>\n",
       "      <td>...</td>\n",
       "      <td>...</td>\n",
       "      <td>...</td>\n",
       "      <td>...</td>\n",
       "    </tr>\n",
       "    <tr>\n",
       "      <th>12743</th>\n",
       "      <td>Terrains et Fermes</td>\n",
       "      <td>-1.0</td>\n",
       "      <td>-1.0</td>\n",
       "      <td>-1.0</td>\n",
       "      <td>À Vendre</td>\n",
       "      <td>3200000.0</td>\n",
       "      <td>Tunis</td>\n",
       "      <td>Sidi Bou Said</td>\n",
       "      <td>6.505150</td>\n",
       "    </tr>\n",
       "    <tr>\n",
       "      <th>12744</th>\n",
       "      <td>Appartements</td>\n",
       "      <td>1.0</td>\n",
       "      <td>1.0</td>\n",
       "      <td>100.0</td>\n",
       "      <td>À Louer</td>\n",
       "      <td>600.0</td>\n",
       "      <td>Tunis</td>\n",
       "      <td>Autres villes</td>\n",
       "      <td>2.778151</td>\n",
       "    </tr>\n",
       "    <tr>\n",
       "      <th>12745</th>\n",
       "      <td>Maisons et Villas</td>\n",
       "      <td>3.0</td>\n",
       "      <td>1.0</td>\n",
       "      <td>760.0</td>\n",
       "      <td>À Vendre</td>\n",
       "      <td>1950000.0</td>\n",
       "      <td>Tunis</td>\n",
       "      <td>La Marsa</td>\n",
       "      <td>6.290035</td>\n",
       "    </tr>\n",
       "    <tr>\n",
       "      <th>12746</th>\n",
       "      <td>Maisons et Villas</td>\n",
       "      <td>3.0</td>\n",
       "      <td>1.0</td>\n",
       "      <td>190.0</td>\n",
       "      <td>À Vendre</td>\n",
       "      <td>240000.0</td>\n",
       "      <td>Tunis</td>\n",
       "      <td>La Marsa</td>\n",
       "      <td>5.380211</td>\n",
       "    </tr>\n",
       "    <tr>\n",
       "      <th>12747</th>\n",
       "      <td>Maisons et Villas</td>\n",
       "      <td>2.0</td>\n",
       "      <td>1.0</td>\n",
       "      <td>70.0</td>\n",
       "      <td>À Louer</td>\n",
       "      <td>500.0</td>\n",
       "      <td>Tunis</td>\n",
       "      <td>Sidi Bou Said</td>\n",
       "      <td>2.698970</td>\n",
       "    </tr>\n",
       "  </tbody>\n",
       "</table>\n",
       "<p>12748 rows × 9 columns</p>\n",
       "</div>"
      ],
      "text/plain": [
       "                    category  room_count  bathroom_count   size      type  \\\n",
       "0         Terrains et Fermes        -1.0            -1.0   -1.0  À Vendre   \n",
       "1         Terrains et Fermes        -1.0            -1.0   -1.0  À Vendre   \n",
       "2               Appartements         2.0             1.0   80.0   À Louer   \n",
       "3      Locations de vacances         1.0             1.0   90.0   À Louer   \n",
       "4               Appartements         2.0             2.0  113.0  À Vendre   \n",
       "...                      ...         ...             ...    ...       ...   \n",
       "12743     Terrains et Fermes        -1.0            -1.0   -1.0  À Vendre   \n",
       "12744           Appartements         1.0             1.0  100.0   À Louer   \n",
       "12745      Maisons et Villas         3.0             1.0  760.0  À Vendre   \n",
       "12746      Maisons et Villas         3.0             1.0  190.0  À Vendre   \n",
       "12747      Maisons et Villas         2.0             1.0   70.0   À Louer   \n",
       "\n",
       "           price    city         region  log_price  \n",
       "0       100000.0  Ariana         Raoued   5.000000  \n",
       "1       316000.0  Ariana  Autres villes   5.499687  \n",
       "2          380.0  Ariana  Autres villes   2.579784  \n",
       "3           70.0  Ariana  Autres villes   1.845098  \n",
       "4       170000.0  Ariana   Ariana Ville   5.230449  \n",
       "...          ...     ...            ...        ...  \n",
       "12743  3200000.0   Tunis  Sidi Bou Said   6.505150  \n",
       "12744      600.0   Tunis  Autres villes   2.778151  \n",
       "12745  1950000.0   Tunis       La Marsa   6.290035  \n",
       "12746   240000.0   Tunis       La Marsa   5.380211  \n",
       "12747      500.0   Tunis  Sidi Bou Said   2.698970  \n",
       "\n",
       "[12748 rows x 9 columns]"
      ]
     },
     "execution_count": 53,
     "metadata": {},
     "output_type": "execute_result"
    }
   ],
   "source": [
    "dataset = pd.read_csv('Data/Property Prices in Tunisia.csv')\n",
    "dataset"
   ]
  },
  {
   "cell_type": "markdown",
   "metadata": {},
   "source": [
    " Exploratory data analysis"
   ]
  },
  {
   "cell_type": "markdown",
   "metadata": {},
   "source": [
    "We can check the dimensions of the data with df.shape attribute"
   ]
  },
  {
   "cell_type": "code",
   "execution_count": 48,
   "metadata": {},
   "outputs": [
    {
     "data": {
      "text/plain": [
       "(9958, 8)"
      ]
     },
     "execution_count": 48,
     "metadata": {},
     "output_type": "execute_result"
    }
   ],
   "source": [
    "dataset.shape"
   ]
  },
  {
   "cell_type": "markdown",
   "metadata": {},
   "source": [
    "We can view the top five and bottom five rows of the dataset with df.head() and df.tail() methods respectively."
   ]
  },
  {
   "cell_type": "code",
   "execution_count": null,
   "metadata": {},
   "outputs": [],
   "source": []
  },
  {
   "cell_type": "code",
   "execution_count": 49,
   "metadata": {},
   "outputs": [
    {
     "data": {
      "text/html": [
       "<div>\n",
       "<style scoped>\n",
       "    .dataframe tbody tr th:only-of-type {\n",
       "        vertical-align: middle;\n",
       "    }\n",
       "\n",
       "    .dataframe tbody tr th {\n",
       "        vertical-align: top;\n",
       "    }\n",
       "\n",
       "    .dataframe thead th {\n",
       "        text-align: right;\n",
       "    }\n",
       "</style>\n",
       "<table border=\"1\" class=\"dataframe\">\n",
       "  <thead>\n",
       "    <tr style=\"text-align: right;\">\n",
       "      <th></th>\n",
       "      <th>Department</th>\n",
       "      <th>Department Name</th>\n",
       "      <th>Division</th>\n",
       "      <th>Gender</th>\n",
       "      <th>Base Salary</th>\n",
       "      <th>2020 Overtime Pay</th>\n",
       "      <th>2020 Longevity Pay</th>\n",
       "      <th>Grade</th>\n",
       "    </tr>\n",
       "  </thead>\n",
       "  <tbody>\n",
       "    <tr>\n",
       "      <th>0</th>\n",
       "      <td>ABS</td>\n",
       "      <td>Alcohol Beverage Services</td>\n",
       "      <td>Wholesale Administration</td>\n",
       "      <td>F</td>\n",
       "      <td>78902.0</td>\n",
       "      <td>199.17</td>\n",
       "      <td>0.00</td>\n",
       "      <td>18</td>\n",
       "    </tr>\n",
       "    <tr>\n",
       "      <th>1</th>\n",
       "      <td>ABS</td>\n",
       "      <td>Alcohol Beverage Services</td>\n",
       "      <td>Administrative Services</td>\n",
       "      <td>F</td>\n",
       "      <td>35926.0</td>\n",
       "      <td>0.00</td>\n",
       "      <td>4038.91</td>\n",
       "      <td>16</td>\n",
       "    </tr>\n",
       "    <tr>\n",
       "      <th>2</th>\n",
       "      <td>ABS</td>\n",
       "      <td>Alcohol Beverage Services</td>\n",
       "      <td>Administration</td>\n",
       "      <td>M</td>\n",
       "      <td>167345.0</td>\n",
       "      <td>0.00</td>\n",
       "      <td>0.00</td>\n",
       "      <td>M2</td>\n",
       "    </tr>\n",
       "    <tr>\n",
       "      <th>3</th>\n",
       "      <td>ABS</td>\n",
       "      <td>Alcohol Beverage Services</td>\n",
       "      <td>Wholesale Operations</td>\n",
       "      <td>F</td>\n",
       "      <td>90848.0</td>\n",
       "      <td>0.00</td>\n",
       "      <td>5717.68</td>\n",
       "      <td>21</td>\n",
       "    </tr>\n",
       "    <tr>\n",
       "      <th>4</th>\n",
       "      <td>ABS</td>\n",
       "      <td>Alcohol Beverage Services</td>\n",
       "      <td>Administration</td>\n",
       "      <td>F</td>\n",
       "      <td>78902.0</td>\n",
       "      <td>205.16</td>\n",
       "      <td>2460.24</td>\n",
       "      <td>18</td>\n",
       "    </tr>\n",
       "  </tbody>\n",
       "</table>\n",
       "</div>"
      ],
      "text/plain": [
       "  Department            Department Name                  Division Gender  \\\n",
       "0        ABS  Alcohol Beverage Services  Wholesale Administration      F   \n",
       "1        ABS  Alcohol Beverage Services   Administrative Services      F   \n",
       "2        ABS  Alcohol Beverage Services            Administration      M   \n",
       "3        ABS  Alcohol Beverage Services      Wholesale Operations      F   \n",
       "4        ABS  Alcohol Beverage Services            Administration      F   \n",
       "\n",
       "   Base Salary  2020 Overtime Pay  2020 Longevity Pay Grade  \n",
       "0      78902.0             199.17                0.00    18  \n",
       "1      35926.0               0.00             4038.91    16  \n",
       "2     167345.0               0.00                0.00    M2  \n",
       "3      90848.0               0.00             5717.68    21  \n",
       "4      78902.0             205.16             2460.24    18  "
      ]
     },
     "execution_count": 49,
     "metadata": {},
     "output_type": "execute_result"
    }
   ],
   "source": [
    "dataset.head()"
   ]
  },
  {
   "cell_type": "code",
   "execution_count": 50,
   "metadata": {},
   "outputs": [
    {
     "data": {
      "text/html": [
       "<div>\n",
       "<style scoped>\n",
       "    .dataframe tbody tr th:only-of-type {\n",
       "        vertical-align: middle;\n",
       "    }\n",
       "\n",
       "    .dataframe tbody tr th {\n",
       "        vertical-align: top;\n",
       "    }\n",
       "\n",
       "    .dataframe thead th {\n",
       "        text-align: right;\n",
       "    }\n",
       "</style>\n",
       "<table border=\"1\" class=\"dataframe\">\n",
       "  <thead>\n",
       "    <tr style=\"text-align: right;\">\n",
       "      <th></th>\n",
       "      <th>Department</th>\n",
       "      <th>Department Name</th>\n",
       "      <th>Division</th>\n",
       "      <th>Gender</th>\n",
       "      <th>Base Salary</th>\n",
       "      <th>2020 Overtime Pay</th>\n",
       "      <th>2020 Longevity Pay</th>\n",
       "      <th>Grade</th>\n",
       "    </tr>\n",
       "  </thead>\n",
       "  <tbody>\n",
       "    <tr>\n",
       "      <th>9953</th>\n",
       "      <td>DOT</td>\n",
       "      <td>Department of Transportation</td>\n",
       "      <td>Transit Nicholson Ride On</td>\n",
       "      <td>M</td>\n",
       "      <td>53239.28</td>\n",
       "      <td>0.0</td>\n",
       "      <td>0.0</td>\n",
       "      <td>15</td>\n",
       "    </tr>\n",
       "    <tr>\n",
       "      <th>9954</th>\n",
       "      <td>DOT</td>\n",
       "      <td>Department of Transportation</td>\n",
       "      <td>Transit Nicholson Ride On</td>\n",
       "      <td>M</td>\n",
       "      <td>48162.80</td>\n",
       "      <td>0.0</td>\n",
       "      <td>0.0</td>\n",
       "      <td>15</td>\n",
       "    </tr>\n",
       "    <tr>\n",
       "      <th>9955</th>\n",
       "      <td>DOT</td>\n",
       "      <td>Department of Transportation</td>\n",
       "      <td>Transit Nicholson Ride On</td>\n",
       "      <td>M</td>\n",
       "      <td>41971.00</td>\n",
       "      <td>0.0</td>\n",
       "      <td>0.0</td>\n",
       "      <td>15</td>\n",
       "    </tr>\n",
       "    <tr>\n",
       "      <th>9956</th>\n",
       "      <td>DOT</td>\n",
       "      <td>Department of Transportation</td>\n",
       "      <td>Transit Nicholson Ride On</td>\n",
       "      <td>M</td>\n",
       "      <td>41971.00</td>\n",
       "      <td>0.0</td>\n",
       "      <td>0.0</td>\n",
       "      <td>15</td>\n",
       "    </tr>\n",
       "    <tr>\n",
       "      <th>9957</th>\n",
       "      <td>DOT</td>\n",
       "      <td>Department of Transportation</td>\n",
       "      <td>Transit Nicholson Ride On</td>\n",
       "      <td>F</td>\n",
       "      <td>41971.00</td>\n",
       "      <td>0.0</td>\n",
       "      <td>0.0</td>\n",
       "      <td>15</td>\n",
       "    </tr>\n",
       "  </tbody>\n",
       "</table>\n",
       "</div>"
      ],
      "text/plain": [
       "     Department               Department Name                   Division  \\\n",
       "9953        DOT  Department of Transportation  Transit Nicholson Ride On   \n",
       "9954        DOT  Department of Transportation  Transit Nicholson Ride On   \n",
       "9955        DOT  Department of Transportation  Transit Nicholson Ride On   \n",
       "9956        DOT  Department of Transportation  Transit Nicholson Ride On   \n",
       "9957        DOT  Department of Transportation  Transit Nicholson Ride On   \n",
       "\n",
       "     Gender  Base Salary  2020 Overtime Pay  2020 Longevity Pay Grade  \n",
       "9953      M     53239.28                0.0                 0.0    15  \n",
       "9954      M     48162.80                0.0                 0.0    15  \n",
       "9955      M     41971.00                0.0                 0.0    15  \n",
       "9956      M     41971.00                0.0                 0.0    15  \n",
       "9957      F     41971.00                0.0                 0.0    15  "
      ]
     },
     "execution_count": 50,
     "metadata": {},
     "output_type": "execute_result"
    }
   ],
   "source": [
    "dataset.tail()\n"
   ]
  },
  {
   "cell_type": "markdown",
   "metadata": {},
   "source": [
    "We can get a concise summary of the dataset with df.info() method. This method prints information about a DataFrame including the index dtype and column dtypes, non-null values and memory usage"
   ]
  },
  {
   "cell_type": "code",
   "execution_count": 51,
   "metadata": {},
   "outputs": [
    {
     "name": "stdout",
     "output_type": "stream",
     "text": [
      "<class 'pandas.core.frame.DataFrame'>\n",
      "RangeIndex: 9958 entries, 0 to 9957\n",
      "Data columns (total 8 columns):\n",
      " #   Column              Non-Null Count  Dtype  \n",
      "---  ------              --------------  -----  \n",
      " 0   Department          9958 non-null   object \n",
      " 1   Department Name     9958 non-null   object \n",
      " 2   Division            9958 non-null   object \n",
      " 3   Gender              9958 non-null   object \n",
      " 4   Base Salary         9958 non-null   float64\n",
      " 5   2020 Overtime Pay   9958 non-null   float64\n",
      " 6   2020 Longevity Pay  9958 non-null   float64\n",
      " 7   Grade               9958 non-null   object \n",
      "dtypes: float64(3), object(5)\n",
      "memory usage: 622.5+ KB\n"
     ]
    }
   ],
   "source": [
    "dataset.info()"
   ]
  },
  {
   "cell_type": "markdown",
   "metadata": {},
   "source": [
    "We can check the data types of each column in the dataframe with df.dtypes attribute. The above command returns the data type of each column."
   ]
  },
  {
   "cell_type": "code",
   "execution_count": 34,
   "metadata": {},
   "outputs": [
    {
     "data": {
      "text/plain": [
       "iso3                      object\n",
       "countryname               object\n",
       "ChangeInFoodBasketCost    object\n",
       "dtype: object"
      ]
     },
     "execution_count": 34,
     "metadata": {},
     "output_type": "execute_result"
    }
   ],
   "source": [
    "dataset.dtypes"
   ]
  },
  {
   "cell_type": "markdown",
   "metadata": {},
   "source": []
  },
  {
   "cell_type": "code",
   "execution_count": 31,
   "metadata": {},
   "outputs": [
    {
     "data": {
      "text/plain": [
       "Index(['iso3', 'countryname', 'ChangeInFoodBasketCost'], dtype='object')"
      ]
     },
     "execution_count": 31,
     "metadata": {},
     "output_type": "execute_result"
    }
   ],
   "source": [
    "dataset.columns"
   ]
  },
  {
   "cell_type": "code",
   "execution_count": 32,
   "metadata": {},
   "outputs": [
    {
     "data": {
      "text/html": [
       "<div>\n",
       "<style scoped>\n",
       "    .dataframe tbody tr th:only-of-type {\n",
       "        vertical-align: middle;\n",
       "    }\n",
       "\n",
       "    .dataframe tbody tr th {\n",
       "        vertical-align: top;\n",
       "    }\n",
       "\n",
       "    .dataframe thead th {\n",
       "        text-align: right;\n",
       "    }\n",
       "</style>\n",
       "<table border=\"1\" class=\"dataframe\">\n",
       "  <thead>\n",
       "    <tr style=\"text-align: right;\">\n",
       "      <th></th>\n",
       "      <th>iso3</th>\n",
       "      <th>countryname</th>\n",
       "      <th>ChangeInFoodBasketCost</th>\n",
       "    </tr>\n",
       "  </thead>\n",
       "  <tbody>\n",
       "    <tr>\n",
       "      <th>count</th>\n",
       "      <td>64</td>\n",
       "      <td>64</td>\n",
       "      <td>34</td>\n",
       "    </tr>\n",
       "    <tr>\n",
       "      <th>unique</th>\n",
       "      <td>64</td>\n",
       "      <td>64</td>\n",
       "      <td>21</td>\n",
       "    </tr>\n",
       "    <tr>\n",
       "      <th>top</th>\n",
       "      <td>#country+code</td>\n",
       "      <td>#country+name</td>\n",
       "      <td>0.05</td>\n",
       "    </tr>\n",
       "    <tr>\n",
       "      <th>freq</th>\n",
       "      <td>1</td>\n",
       "      <td>1</td>\n",
       "      <td>4</td>\n",
       "    </tr>\n",
       "  </tbody>\n",
       "</table>\n",
       "</div>"
      ],
      "text/plain": [
       "                 iso3    countryname ChangeInFoodBasketCost\n",
       "count              64             64                     34\n",
       "unique             64             64                     21\n",
       "top     #country+code  #country+name                   0.05\n",
       "freq                1              1                      4"
      ]
     },
     "execution_count": 32,
     "metadata": {},
     "output_type": "execute_result"
    }
   ],
   "source": [
    "dataset.describe()"
   ]
  },
  {
   "cell_type": "code",
   "execution_count": 6,
   "metadata": {},
   "outputs": [],
   "source": [
    "dataset[\"countryname\"] = pd.to_numeric(dataset[\"iso3\"], errors='coerce')"
   ]
  },
  {
   "cell_type": "code",
   "execution_count": 7,
   "metadata": {},
   "outputs": [
    {
     "data": {
      "text/plain": [
       "iso3                       object\n",
       "countryname               float64\n",
       "ChangeInFoodBasketCost     object\n",
       "dtype: object"
      ]
     },
     "execution_count": 7,
     "metadata": {},
     "output_type": "execute_result"
    }
   ],
   "source": [
    "dataset.dtypes"
   ]
  },
  {
   "cell_type": "code",
   "execution_count": 10,
   "metadata": {},
   "outputs": [
    {
     "data": {
      "text/plain": [
       "(64, 3)"
      ]
     },
     "execution_count": 10,
     "metadata": {},
     "output_type": "execute_result"
    }
   ],
   "source": [
    "dataset.shape"
   ]
  },
  {
   "cell_type": "markdown",
   "metadata": {},
   "source": [
    "clean"
   ]
  },
  {
   "cell_type": "code",
   "execution_count": 36,
   "metadata": {},
   "outputs": [],
   "source": [
    "dataset[\"ChangeInFoodBasketCost\"] = pd.to_numeric(dataset[\"ChangeInFoodBasketCost\"],errors ='coerce')"
   ]
  },
  {
   "cell_type": "code",
   "execution_count": 41,
   "metadata": {},
   "outputs": [],
   "source": [
    "dataset[\"countryname\"] = dataset[\"countryname\"].fillna(0.0)"
   ]
  },
  {
   "cell_type": "code",
   "execution_count": 42,
   "metadata": {},
   "outputs": [],
   "source": [
    "dataset[\"iso3\"] = dataset[\"iso3\"].fillna(0.0)"
   ]
  },
  {
   "cell_type": "code",
   "execution_count": 43,
   "metadata": {},
   "outputs": [
    {
     "name": "stdout",
     "output_type": "stream",
     "text": [
      "<class 'pandas.core.frame.DataFrame'>\n",
      "RangeIndex: 64 entries, 0 to 63\n",
      "Data columns (total 3 columns):\n",
      " #   Column                  Non-Null Count  Dtype  \n",
      "---  ------                  --------------  -----  \n",
      " 0   iso3                    64 non-null     object \n",
      " 1   countryname             64 non-null     object \n",
      " 2   ChangeInFoodBasketCost  33 non-null     float64\n",
      "dtypes: float64(1), object(2)\n",
      "memory usage: 1.6+ KB\n"
     ]
    }
   ],
   "source": [
    "dataset.info()"
   ]
  },
  {
   "cell_type": "code",
   "execution_count": 54,
   "metadata": {},
   "outputs": [
    {
     "name": "stdout",
     "output_type": "stream",
     "text": [
      "|    | category              |   room_count |   bathroom_count |   size | type     |   price | city   | region        |   log_price |\n",
      "|---:|:----------------------|-------------:|-----------------:|-------:|:---------|--------:|:-------|:--------------|------------:|\n",
      "|  0 | Terrains et Fermes    |           -1 |               -1 |     -1 | À Vendre |  100000 | Ariana | Raoued        |     5       |\n",
      "|  1 | Terrains et Fermes    |           -1 |               -1 |     -1 | À Vendre |  316000 | Ariana | Autres villes |     5.49969 |\n",
      "|  2 | Appartements          |            2 |                1 |     80 | À Louer  |     380 | Ariana | Autres villes |     2.57978 |\n",
      "|  3 | Locations de vacances |            1 |                1 |     90 | À Louer  |      70 | Ariana | Autres villes |     1.8451  |\n",
      "|  4 | Appartements          |            2 |                2 |    113 | À Vendre |  170000 | Ariana | Ariana Ville  |     5.23045 |\n"
     ]
    }
   ],
   "source": [
    "print(dataset.head().to_markdown())"
   ]
  },
  {
   "cell_type": "code",
   "execution_count": 9,
   "metadata": {},
   "outputs": [
    {
     "data": {
      "text/html": [
       "<div>\n",
       "<style scoped>\n",
       "    .dataframe tbody tr th:only-of-type {\n",
       "        vertical-align: middle;\n",
       "    }\n",
       "\n",
       "    .dataframe tbody tr th {\n",
       "        vertical-align: top;\n",
       "    }\n",
       "\n",
       "    .dataframe thead th {\n",
       "        text-align: right;\n",
       "    }\n",
       "</style>\n",
       "<table border=\"1\" class=\"dataframe\">\n",
       "  <thead>\n",
       "    <tr style=\"text-align: right;\">\n",
       "      <th></th>\n",
       "      <th>iso3</th>\n",
       "      <th>countryname</th>\n",
       "      <th>ChangeInFoodBasketCost</th>\n",
       "    </tr>\n",
       "  </thead>\n",
       "  <tbody>\n",
       "    <tr>\n",
       "      <th>59</th>\n",
       "      <td>URY</td>\n",
       "      <td>NaN</td>\n",
       "      <td>NaN</td>\n",
       "    </tr>\n",
       "    <tr>\n",
       "      <th>60</th>\n",
       "      <td>UZB</td>\n",
       "      <td>NaN</td>\n",
       "      <td>NaN</td>\n",
       "    </tr>\n",
       "    <tr>\n",
       "      <th>61</th>\n",
       "      <td>VEN</td>\n",
       "      <td>NaN</td>\n",
       "      <td>NaN</td>\n",
       "    </tr>\n",
       "    <tr>\n",
       "      <th>62</th>\n",
       "      <td>YEM</td>\n",
       "      <td>NaN</td>\n",
       "      <td>-0.09</td>\n",
       "    </tr>\n",
       "    <tr>\n",
       "      <th>63</th>\n",
       "      <td>ZMB</td>\n",
       "      <td>NaN</td>\n",
       "      <td>-0.01</td>\n",
       "    </tr>\n",
       "  </tbody>\n",
       "</table>\n",
       "</div>"
      ],
      "text/plain": [
       "   iso3  countryname ChangeInFoodBasketCost\n",
       "59  URY          NaN                    NaN\n",
       "60  UZB          NaN                    NaN\n",
       "61  VEN          NaN                    NaN\n",
       "62  YEM          NaN                  -0.09\n",
       "63  ZMB          NaN                  -0.01"
      ]
     },
     "execution_count": 9,
     "metadata": {},
     "output_type": "execute_result"
    }
   ],
   "source": [
    "dataset.tail()"
   ]
  }
 ],
 "metadata": {
  "kernelspec": {
   "display_name": "Python 3.9.13 ('base')",
   "language": "python",
   "name": "python3"
  },
  "language_info": {
   "codemirror_mode": {
    "name": "ipython",
    "version": 3
   },
   "file_extension": ".py",
   "mimetype": "text/x-python",
   "name": "python",
   "nbconvert_exporter": "python",
   "pygments_lexer": "ipython3",
   "version": "3.9.13"
  },
  "orig_nbformat": 4,
  "vscode": {
   "interpreter": {
    "hash": "ad2bdc8ecc057115af97d19610ffacc2b4e99fae6737bb82f5d7fb13d2f2c186"
   }
  }
 },
 "nbformat": 4,
 "nbformat_minor": 2
}
